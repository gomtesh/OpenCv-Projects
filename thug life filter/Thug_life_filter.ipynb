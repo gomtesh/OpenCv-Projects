{
 "cells": [
  {
   "cell_type": "markdown",
   "metadata": {},
   "source": [
    "# Thug life filter on image or video "
   ]
  },
  {
   "cell_type": "markdown",
   "metadata": {},
   "source": [
    "## Filter on Random Image "
   ]
  },
  {
   "cell_type": "code",
   "execution_count": 5,
   "metadata": {},
   "outputs": [],
   "source": [
    "import cv2 \n",
    "import numpy as np\n",
    "\n",
    "img = cv2.imread('face.jpg', -1) # we read the image or store the image cv2.imread(img_name,data type)\n",
    "# 1 = colorful image\n",
    "# 0 = grayscale image\n",
    "#-1 = unchanged image\n",
    "specs = cv2.imread('thuglifespecs.png', -1) # this will store the specs image\n",
    "\n",
    "\n",
    "cv2.imshow('Original',img)\n",
    "\n",
    "gray = cv2.cvtColor(img, cv2.COLOR_BGR2GRAY) # we convert the image to grayscale for opencv processing\n",
    "eyes_cascade = cv2.CascadeClassifier('haarcascade_frontalface_default.xml') # we initialise the cascade classifier\n",
    "eyes = eyes_cascade.detectMultiScale(gray, 2, 5) # .detectMultiScale(img_name,scake_factor,min_neighbours)\n",
    "\n",
    "found = 0 # if we do no find any eyes\n",
    "for (x, y, w, h) in eyes: # we get the coordinates for the eyes and we draw the rectangle\n",
    "    cv2.rectangle(gray, (x, y), (x + w, y + h), (125, 155, 155), 3)\n",
    "    found = 1 # we found the eyes\n",
    "    break\n",
    "\n",
    "if found == 0: # if we do not find eyes\n",
    "    print(\"not found\")\n",
    "    exit()\n",
    "\n",
    "img = cv2.cvtColor(img, cv2.COLOR_BGR2BGRA) # this converts the image into alpha\n",
    "specs = cv2.resize(specs, (w, h)) # this will resize the specs according to the heights\n",
    " \n",
    "w, h, c = specs.shape\n",
    "\n",
    "for width_eyes in range(0, w): # this loop will resize until perfect match is not found\n",
    "    for height_eyes in range(0, h):\n",
    "\n",
    "        if specs[width_eyes, height_eyes][3] != 0:\n",
    "            img[y + width_eyes, x + height_eyes] = specs[width_eyes, height_eyes]\n",
    "cv2.imshow('thughlife',img)\n",
    "cv2.imwrite('thglife.jpg',img)\n",
    "cv2.waitKey(0)\n",
    "cv2.destroyAllWindows()"
   ]
  },
  {
   "cell_type": "markdown",
   "metadata": {},
   "source": [
    "## Filter on personal Image"
   ]
  },
  {
   "cell_type": "code",
   "execution_count": 6,
   "metadata": {},
   "outputs": [],
   "source": [
    "import cv2\n",
    "import numpy as np\n",
    "\n",
    "img = cv2.imread('face1.jpg', -1) \n",
    "specs = cv2.imread('thuglifespecs.png', -1)\n",
    "\n",
    "\n",
    "cv2.imshow('Original',img)\n",
    "\n",
    "gray = cv2.cvtColor(img, cv2.COLOR_BGR2GRAY)\n",
    "eyes_cascade = cv2.CascadeClassifier('haarcascade_frontalface_default.xml')\n",
    "eyes = eyes_cascade.detectMultiScale(gray, 2, 5)\n",
    "\n",
    "found = 0\n",
    "for (x, y, w, h) in eyes:\n",
    "    cv2.rectangle(gray, (x, y), (x + w, y + h), (125, 155, 155), 3)\n",
    "    found = 1\n",
    "    break\n",
    "\n",
    "if found == 0:\n",
    "    print(\"not found\")\n",
    "    exit()\n",
    "\n",
    "img = cv2.cvtColor(img, cv2.COLOR_BGR2BGRA)\n",
    "specs = cv2.resize(specs, (w, h))\n",
    " \n",
    "w, h, c = specs.shape\n",
    "\n",
    "for width_eyes in range(0, w):\n",
    "    for height_eyes in range(0, h):\n",
    "\n",
    "        if specs[width_eyes, height_eyes][3] != 0:\n",
    "            img[y + width_eyes, x + height_eyes] = specs[width_eyes, height_eyes]\n",
    "cv2.imshow('thughlife',img)\n",
    "cv2.imwrite('thglife.jpg',img)\n",
    "cv2.waitKey(0)\n",
    "cv2.destroyAllWindows()"
   ]
  },
  {
   "cell_type": "markdown",
   "metadata": {},
   "source": [
    "## Filter on live video "
   ]
  },
  {
   "cell_type": "code",
   "execution_count": 9,
   "metadata": {},
   "outputs": [],
   "source": [
    "import cv2\n",
    "import numpy as np\n",
    "\n",
    "face_cascade = cv2.CascadeClassifier(\"haarcascade_frontalface_default.xml\")\n",
    "eye_cascade = cv2.CascadeClassifier(\"haarcascade_eye.xml\")\n",
    "specs = cv2.imread('thuglifespecs.png', -1) # this will store the specs image\n",
    "\n",
    "video = cv2.VideoCapture(0)\n",
    "# This will return the video from the first webcam\n",
    "\n",
    "while True:\n",
    "    ret, frame = video.read()\n",
    "    \n",
    "    gray = cv2.cvtColor(frame,cv2.COLOR_BGR2GRAY)\n",
    "    \n",
    "    faces = face_cascade.detectMultiScale(gray, 2, 5)\n",
    "    \n",
    "\n",
    "    for (x,y,w,h) in faces:\n",
    "\n",
    "        cv2.rectangle(frame,(x,y),(x+w,y+h),(255,0,0),2)\n",
    "        roi_gray = gray[y:y+h, x:x+w]\n",
    "        roi_color = frame[y:y+h, x:x+w]\n",
    "                \n",
    "        eyes = face_cascade.detectMultiScale(gray, 2, 5) # .detectMultiScale(img_name,scake_factor,min_neighbours)\n",
    "\n",
    "        found = 0 #\n",
    "        for (x, y, w, h) in eyes:\n",
    "            cv2.rectangle(gray, (x, y), (x + w, y + h), (125, 155, 155), 3)\n",
    "            found = 1\n",
    "            break\n",
    "\n",
    "        if found == 0:\n",
    "            print(\"not found\")\n",
    "            exit()\n",
    "\n",
    "        frame = cv2.cvtColor(frame, cv2.COLOR_BGR2BGRA) # this converts the image into alpha\n",
    "        specs = cv2.resize(specs, (w, h)) # this will resize the specs according to the heights\n",
    " \n",
    "        w, h, c = specs.shape\n",
    "    \n",
    "        for width_eyes in range(0, w):\n",
    "            for height_eyes in range(0, h):\n",
    "\n",
    "                if specs[width_eyes, height_eyes][3] != 0:\n",
    "                    frame[y + width_eyes, x + height_eyes] = specs[width_eyes, height_eyes]\n",
    "        \n",
    "    cv2.imshow('OUTPUT',frame)\n",
    "\n",
    "    if cv2.waitKey(1) & 0xFF == ord('q'):\n",
    "        break\n",
    "    #This statement just runs once per frame.\n",
    "    #Basically, if we get a key, and that key is a q, we will exit the while loop with a break, which then runs:\n",
    "\n",
    "video.release()\n",
    "cv2.destroyAllWindows()\n",
    "# This releases the webcam, then closes all of the imshow() windows.\n"
   ]
  },
  {
   "cell_type": "code",
   "execution_count": null,
   "metadata": {},
   "outputs": [],
   "source": []
  }
 ],
 "metadata": {
  "kernelspec": {
   "display_name": "Python 3",
   "language": "python",
   "name": "python3"
  },
  "language_info": {
   "codemirror_mode": {
    "name": "ipython",
    "version": 3
   },
   "file_extension": ".py",
   "mimetype": "text/x-python",
   "name": "python",
   "nbconvert_exporter": "python",
   "pygments_lexer": "ipython3",
   "version": "3.6.5"
  }
 },
 "nbformat": 4,
 "nbformat_minor": 2
}
